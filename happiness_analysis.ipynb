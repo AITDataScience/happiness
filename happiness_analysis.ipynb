{
 "cells": [
  {
   "cell_type": "markdown",
   "id": "4bf0f724",
   "metadata": {},
   "source": [
    "# Happiness Analysis Across The World"
   ]
  },
  {
   "cell_type": "markdown",
   "id": "80d95322",
   "metadata": {},
   "source": [
    "## Required Imports"
   ]
  },
  {
   "cell_type": "code",
   "execution_count": 20,
   "id": "6883a3fb",
   "metadata": {},
   "outputs": [],
   "source": [
    "import numpy as np\n",
    "import pandas as pd\n",
    "import seaborn as sns\n",
    "import matplotlib.pyplot as plt\n",
    "%matplotlib inline"
   ]
  },
  {
   "cell_type": "markdown",
   "id": "e6e0f954",
   "metadata": {},
   "source": [
    "## Preprocessing (Downloading and Cleaning Data)"
   ]
  },
  {
   "cell_type": "code",
   "execution_count": 21,
   "id": "ca1c7034",
   "metadata": {},
   "outputs": [],
   "source": [
    "# read csv files into data frames\n",
    "df = pd.read_csv(\"data/world-happiness-report.csv\")\n",
    "df2021 = pd.read_csv(\"data/world-happiness-report-2021.csv\")"
   ]
  },
  {
   "cell_type": "code",
   "execution_count": 22,
   "id": "8da3246c",
   "metadata": {},
   "outputs": [
    {
     "data": {
      "text/plain": [
       "['Country name',\n",
       " 'year',\n",
       " 'Life Ladder',\n",
       " 'Log GDP per capita',\n",
       " 'Social support',\n",
       " 'Healthy life expectancy at birth',\n",
       " 'Freedom to make life choices',\n",
       " 'Generosity',\n",
       " 'Perceptions of corruption',\n",
       " 'Positive affect',\n",
       " 'Negative affect']"
      ]
     },
     "execution_count": 22,
     "metadata": {},
     "output_type": "execute_result"
    }
   ],
   "source": [
    "# examine names of columns for 2008-2020 data frame\n",
    "list(df.columns)"
   ]
  },
  {
   "cell_type": "code",
   "execution_count": 23,
   "id": "979044fa",
   "metadata": {},
   "outputs": [
    {
     "data": {
      "text/plain": [
       "['Country name',\n",
       " 'Regional indicator',\n",
       " 'Ladder score',\n",
       " 'Standard error of ladder score',\n",
       " 'upperwhisker',\n",
       " 'lowerwhisker',\n",
       " 'Logged GDP per capita',\n",
       " 'Social support',\n",
       " 'Healthy life expectancy',\n",
       " 'Freedom to make life choices',\n",
       " 'Generosity',\n",
       " 'Perceptions of corruption',\n",
       " 'Ladder score in Dystopia',\n",
       " 'Explained by: Log GDP per capita',\n",
       " 'Explained by: Social support',\n",
       " 'Explained by: Healthy life expectancy',\n",
       " 'Explained by: Freedom to make life choices',\n",
       " 'Explained by: Generosity',\n",
       " 'Explained by: Perceptions of corruption',\n",
       " 'Dystopia + residual']"
      ]
     },
     "execution_count": 23,
     "metadata": {},
     "output_type": "execute_result"
    }
   ],
   "source": [
    "# examine names of columns for 2021 data frame\n",
    "list(df2021.columns)"
   ]
  },
  {
   "cell_type": "code",
   "execution_count": 24,
   "id": "7b5d62a0",
   "metadata": {},
   "outputs": [],
   "source": [
    "# add column for year on 2021 data frame\n",
    "df2021['Year'] = 2021"
   ]
  },
  {
   "cell_type": "code",
   "execution_count": 25,
   "id": "25e34ded",
   "metadata": {},
   "outputs": [],
   "source": [
    "# drop columns whose data will not be analyzed\n",
    "df2021 = df2021.drop(columns=['Standard error of ladder score','upperwhisker', 'lowerwhisker',\n",
    "       'Ladder score in Dystopia',\n",
    "       'Explained by: Log GDP per capita', 'Explained by: Social support',\n",
    "       'Explained by: Healthy life expectancy',\n",
    "       'Explained by: Freedom to make life choices',\n",
    "       'Explained by: Generosity', 'Explained by: Perceptions of corruption',\n",
    "       'Dystopia + residual'], axis=1)\n",
    "df = df.drop(columns=['Positive affect','Negative affect'], axis=1)"
   ]
  },
  {
   "cell_type": "code",
   "execution_count": 26,
   "id": "88766059",
   "metadata": {},
   "outputs": [],
   "source": [
    "# rename columns\n",
    "df2021 = df2021.rename(columns = {'Logged GDP per capita':'Log GDP per capita'} )\n",
    "df = df.rename(columns= {'year':'Year', 'Life Ladder':'Ladder score', 'Healthy life expectancy at birth' : 'Healthy life expectancy'})"
   ]
  },
  {
   "cell_type": "code",
   "execution_count": 27,
   "id": "453e1548",
   "metadata": {},
   "outputs": [],
   "source": [
    "# add column for regional indicator on 2005-2020 data frame\n",
    "df_with_regions = pd.merge(df, df2021[['Country name','Regional indicator']], on = ['Country name'])"
   ]
  },
  {
   "cell_type": "code",
   "execution_count": 28,
   "id": "75e41581",
   "metadata": {},
   "outputs": [
    {
     "data": {
      "text/plain": [
       "[2005,\n",
       " 2006,\n",
       " 2007,\n",
       " 2008,\n",
       " 2009,\n",
       " 2010,\n",
       " 2011,\n",
       " 2012,\n",
       " 2013,\n",
       " 2014,\n",
       " 2015,\n",
       " 2016,\n",
       " 2017,\n",
       " 2018,\n",
       " 2019,\n",
       " 2020,\n",
       " 2021]"
      ]
     },
     "execution_count": 28,
     "metadata": {},
     "output_type": "execute_result"
    }
   ],
   "source": [
    "# combine data sets to create one data frame for 2005-2021\n",
    "df_all = pd.concat([df_with_regions, df2021], ignore_index=True).sort_values(by=\"Country name\", ascending=True)\n",
    "years_list = list(df_all[\"Year\"].unique())\n",
    "sorted(years_list)"
   ]
  },
  {
   "cell_type": "code",
   "execution_count": 34,
   "id": "35b3919c",
   "metadata": {},
   "outputs": [],
   "source": [
    "# add column for time in terms of COVID\n",
    "def covid_time(row):\n",
    "    if row[\"Year\"] < 2020: #distinguishing between pre-covid and post-covid could be improved if we had data by month and if we had data in future\n",
    "        return \"Pre-COVID\"  #assuming that the pre-covid is before 2020\n",
    "    else:\n",
    "        return \"Post-COVID\" #assuming that the post-covid is 2020 & 2021\n",
    "\n",
    "df_all[\"COVID time\"] = df_all.apply(covid_time, axis=1)"
   ]
  },
  {
   "cell_type": "code",
   "execution_count": 30,
   "id": "9c06f735",
   "metadata": {},
   "outputs": [],
   "source": [
    "# reorder columns\n",
    "df_all = df_all[['Country name',\n",
    "                 'Regional indicator',\n",
    "                 'Year',\n",
    "                 'COVID time',\n",
    "                 'Ladder score',\n",
    "                 'Log GDP per capita',\n",
    "                 'Healthy life expectancy',\n",
    "                 'Social support',\n",
    "                 'Freedom to make life choices',\n",
    "                 'Generosity',\n",
    "                 'Perceptions of corruption']]"
   ]
  },
  {
   "cell_type": "code",
   "execution_count": 31,
   "id": "b6b6a2a6",
   "metadata": {},
   "outputs": [
    {
     "data": {
      "text/plain": [
       "['Country name',\n",
       " 'Regional indicator',\n",
       " 'Year',\n",
       " 'COVID time',\n",
       " 'Ladder score',\n",
       " 'Log GDP per capita',\n",
       " 'Healthy life expectancy',\n",
       " 'Social support',\n",
       " 'Freedom to make life choices',\n",
       " 'Generosity',\n",
       " 'Perceptions of corruption']"
      ]
     },
     "execution_count": 31,
     "metadata": {},
     "output_type": "execute_result"
    }
   ],
   "source": [
    "# confirm that data frame has the necessary columns in the intended order\n",
    "list(df_all.columns)"
   ]
  },
  {
   "cell_type": "code",
   "execution_count": 32,
   "id": "9fbc8172",
   "metadata": {},
   "outputs": [
    {
     "data": {
      "text/html": [
       "<div>\n",
       "<style scoped>\n",
       "    .dataframe tbody tr th:only-of-type {\n",
       "        vertical-align: middle;\n",
       "    }\n",
       "\n",
       "    .dataframe tbody tr th {\n",
       "        vertical-align: top;\n",
       "    }\n",
       "\n",
       "    .dataframe thead th {\n",
       "        text-align: right;\n",
       "    }\n",
       "</style>\n",
       "<table border=\"1\" class=\"dataframe\">\n",
       "  <thead>\n",
       "    <tr style=\"text-align: right;\">\n",
       "      <th></th>\n",
       "      <th>Country name</th>\n",
       "      <th>Regional indicator</th>\n",
       "      <th>Year</th>\n",
       "      <th>COVID time</th>\n",
       "      <th>Ladder score</th>\n",
       "      <th>Log GDP per capita</th>\n",
       "      <th>Healthy life expectancy</th>\n",
       "      <th>Social support</th>\n",
       "      <th>Freedom to make life choices</th>\n",
       "      <th>Generosity</th>\n",
       "      <th>Perceptions of corruption</th>\n",
       "    </tr>\n",
       "  </thead>\n",
       "  <tbody>\n",
       "    <tr>\n",
       "      <th>0</th>\n",
       "      <td>Afghanistan</td>\n",
       "      <td>South Asia</td>\n",
       "      <td>2008</td>\n",
       "      <td>Pre-COVID</td>\n",
       "      <td>3.724</td>\n",
       "      <td>7.370</td>\n",
       "      <td>50.800</td>\n",
       "      <td>0.451</td>\n",
       "      <td>0.718</td>\n",
       "      <td>0.168</td>\n",
       "      <td>0.882</td>\n",
       "    </tr>\n",
       "    <tr>\n",
       "      <th>11</th>\n",
       "      <td>Afghanistan</td>\n",
       "      <td>South Asia</td>\n",
       "      <td>2019</td>\n",
       "      <td>Pre-COVID</td>\n",
       "      <td>2.375</td>\n",
       "      <td>7.697</td>\n",
       "      <td>52.400</td>\n",
       "      <td>0.420</td>\n",
       "      <td>0.394</td>\n",
       "      <td>-0.108</td>\n",
       "      <td>0.924</td>\n",
       "    </tr>\n",
       "    <tr>\n",
       "      <th>10</th>\n",
       "      <td>Afghanistan</td>\n",
       "      <td>South Asia</td>\n",
       "      <td>2018</td>\n",
       "      <td>Pre-COVID</td>\n",
       "      <td>2.694</td>\n",
       "      <td>7.692</td>\n",
       "      <td>52.600</td>\n",
       "      <td>0.508</td>\n",
       "      <td>0.374</td>\n",
       "      <td>-0.094</td>\n",
       "      <td>0.928</td>\n",
       "    </tr>\n",
       "    <tr>\n",
       "      <th>9</th>\n",
       "      <td>Afghanistan</td>\n",
       "      <td>South Asia</td>\n",
       "      <td>2017</td>\n",
       "      <td>Pre-COVID</td>\n",
       "      <td>2.662</td>\n",
       "      <td>7.697</td>\n",
       "      <td>52.800</td>\n",
       "      <td>0.491</td>\n",
       "      <td>0.427</td>\n",
       "      <td>-0.121</td>\n",
       "      <td>0.954</td>\n",
       "    </tr>\n",
       "    <tr>\n",
       "      <th>8</th>\n",
       "      <td>Afghanistan</td>\n",
       "      <td>South Asia</td>\n",
       "      <td>2016</td>\n",
       "      <td>Pre-COVID</td>\n",
       "      <td>4.220</td>\n",
       "      <td>7.697</td>\n",
       "      <td>53.000</td>\n",
       "      <td>0.559</td>\n",
       "      <td>0.523</td>\n",
       "      <td>0.042</td>\n",
       "      <td>0.793</td>\n",
       "    </tr>\n",
       "    <tr>\n",
       "      <th>...</th>\n",
       "      <td>...</td>\n",
       "      <td>...</td>\n",
       "      <td>...</td>\n",
       "      <td>...</td>\n",
       "      <td>...</td>\n",
       "      <td>...</td>\n",
       "      <td>...</td>\n",
       "      <td>...</td>\n",
       "      <td>...</td>\n",
       "      <td>...</td>\n",
       "      <td>...</td>\n",
       "    </tr>\n",
       "    <tr>\n",
       "      <th>1873</th>\n",
       "      <td>Zimbabwe</td>\n",
       "      <td>Sub-Saharan Africa</td>\n",
       "      <td>2008</td>\n",
       "      <td>Pre-COVID</td>\n",
       "      <td>3.174</td>\n",
       "      <td>7.461</td>\n",
       "      <td>44.140</td>\n",
       "      <td>0.843</td>\n",
       "      <td>0.344</td>\n",
       "      <td>-0.090</td>\n",
       "      <td>0.964</td>\n",
       "    </tr>\n",
       "    <tr>\n",
       "      <th>1871</th>\n",
       "      <td>Zimbabwe</td>\n",
       "      <td>Sub-Saharan Africa</td>\n",
       "      <td>2006</td>\n",
       "      <td>Pre-COVID</td>\n",
       "      <td>3.826</td>\n",
       "      <td>7.711</td>\n",
       "      <td>41.580</td>\n",
       "      <td>0.822</td>\n",
       "      <td>0.431</td>\n",
       "      <td>-0.076</td>\n",
       "      <td>0.905</td>\n",
       "    </tr>\n",
       "    <tr>\n",
       "      <th>2033</th>\n",
       "      <td>Zimbabwe</td>\n",
       "      <td>Sub-Saharan Africa</td>\n",
       "      <td>2021</td>\n",
       "      <td>Post-COVID</td>\n",
       "      <td>3.145</td>\n",
       "      <td>7.943</td>\n",
       "      <td>56.201</td>\n",
       "      <td>0.750</td>\n",
       "      <td>0.677</td>\n",
       "      <td>-0.047</td>\n",
       "      <td>0.821</td>\n",
       "    </tr>\n",
       "    <tr>\n",
       "      <th>1877</th>\n",
       "      <td>Zimbabwe</td>\n",
       "      <td>Sub-Saharan Africa</td>\n",
       "      <td>2012</td>\n",
       "      <td>Pre-COVID</td>\n",
       "      <td>4.955</td>\n",
       "      <td>7.983</td>\n",
       "      <td>49.540</td>\n",
       "      <td>0.896</td>\n",
       "      <td>0.470</td>\n",
       "      <td>-0.103</td>\n",
       "      <td>0.859</td>\n",
       "    </tr>\n",
       "    <tr>\n",
       "      <th>1885</th>\n",
       "      <td>Zimbabwe</td>\n",
       "      <td>Sub-Saharan Africa</td>\n",
       "      <td>2020</td>\n",
       "      <td>Post-COVID</td>\n",
       "      <td>3.160</td>\n",
       "      <td>7.829</td>\n",
       "      <td>56.800</td>\n",
       "      <td>0.717</td>\n",
       "      <td>0.643</td>\n",
       "      <td>-0.009</td>\n",
       "      <td>0.789</td>\n",
       "    </tr>\n",
       "  </tbody>\n",
       "</table>\n",
       "<p>2035 rows × 11 columns</p>\n",
       "</div>"
      ],
      "text/plain": [
       "     Country name  Regional indicator  Year  COVID time  Ladder score  \\\n",
       "0     Afghanistan          South Asia  2008   Pre-COVID         3.724   \n",
       "11    Afghanistan          South Asia  2019   Pre-COVID         2.375   \n",
       "10    Afghanistan          South Asia  2018   Pre-COVID         2.694   \n",
       "9     Afghanistan          South Asia  2017   Pre-COVID         2.662   \n",
       "8     Afghanistan          South Asia  2016   Pre-COVID         4.220   \n",
       "...           ...                 ...   ...         ...           ...   \n",
       "1873     Zimbabwe  Sub-Saharan Africa  2008   Pre-COVID         3.174   \n",
       "1871     Zimbabwe  Sub-Saharan Africa  2006   Pre-COVID         3.826   \n",
       "2033     Zimbabwe  Sub-Saharan Africa  2021  Post-COVID         3.145   \n",
       "1877     Zimbabwe  Sub-Saharan Africa  2012   Pre-COVID         4.955   \n",
       "1885     Zimbabwe  Sub-Saharan Africa  2020  Post-COVID         3.160   \n",
       "\n",
       "      Log GDP per capita  Healthy life expectancy  Social support  \\\n",
       "0                  7.370                   50.800           0.451   \n",
       "11                 7.697                   52.400           0.420   \n",
       "10                 7.692                   52.600           0.508   \n",
       "9                  7.697                   52.800           0.491   \n",
       "8                  7.697                   53.000           0.559   \n",
       "...                  ...                      ...             ...   \n",
       "1873               7.461                   44.140           0.843   \n",
       "1871               7.711                   41.580           0.822   \n",
       "2033               7.943                   56.201           0.750   \n",
       "1877               7.983                   49.540           0.896   \n",
       "1885               7.829                   56.800           0.717   \n",
       "\n",
       "      Freedom to make life choices  Generosity  Perceptions of corruption  \n",
       "0                            0.718       0.168                      0.882  \n",
       "11                           0.394      -0.108                      0.924  \n",
       "10                           0.374      -0.094                      0.928  \n",
       "9                            0.427      -0.121                      0.954  \n",
       "8                            0.523       0.042                      0.793  \n",
       "...                            ...         ...                        ...  \n",
       "1873                         0.344      -0.090                      0.964  \n",
       "1871                         0.431      -0.076                      0.905  \n",
       "2033                         0.677      -0.047                      0.821  \n",
       "1877                         0.470      -0.103                      0.859  \n",
       "1885                         0.643      -0.009                      0.789  \n",
       "\n",
       "[2035 rows x 11 columns]"
      ]
     },
     "execution_count": 32,
     "metadata": {},
     "output_type": "execute_result"
    }
   ],
   "source": [
    "# observe the head and tail of the processed data frame\n",
    "df_all"
   ]
  },
  {
   "cell_type": "code",
   "execution_count": 33,
   "id": "34025304",
   "metadata": {},
   "outputs": [
    {
     "data": {
      "text/plain": [
       "Country name                      0\n",
       "Year                              0\n",
       "Ladder score                      0\n",
       "Log GDP per capita               36\n",
       "Social support                   13\n",
       "Healthy life expectancy          55\n",
       "Freedom to make life choices     32\n",
       "Generosity                       89\n",
       "Perceptions of corruption       110\n",
       "dtype: int64"
      ]
     },
     "execution_count": 33,
     "metadata": {},
     "output_type": "execute_result"
    }
   ],
   "source": [
    "# check for missing values\n",
    "df.isna().sum() # do we want to remove missing values or leave them?"
   ]
  }
 ],
 "metadata": {
  "kernelspec": {
   "display_name": "Python 3 (ipykernel)",
   "language": "python",
   "name": "python3"
  },
  "language_info": {
   "codemirror_mode": {
    "name": "ipython",
    "version": 3
   },
   "file_extension": ".py",
   "mimetype": "text/x-python",
   "name": "python",
   "nbconvert_exporter": "python",
   "pygments_lexer": "ipython3",
   "version": "3.7.7"
  }
 },
 "nbformat": 4,
 "nbformat_minor": 5
}
